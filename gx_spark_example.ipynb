{
 "cells": [
  {
   "cell_type": "markdown",
   "id": "c47dbf79-5d70-40cb-b9bc-18764b94d617",
   "metadata": {},
   "source": [
    "Module imports"
   ]
  },
  {
   "cell_type": "code",
   "execution_count": 1,
   "id": "15b8d529-e7ac-44f6-aa87-28aa0a52e66d",
   "metadata": {},
   "outputs": [],
   "source": [
    "import great_expectations as gx\n",
    "import pandas as pd\n",
    "from pyspark.sql import SparkSession"
   ]
  },
  {
   "cell_type": "markdown",
   "id": "bfa232b8-d6b9-4512-84b3-290a592df901",
   "metadata": {},
   "source": [
    "Disable GX analytics (uses internet)"
   ]
  },
  {
   "cell_type": "code",
   "execution_count": 2,
   "id": "c433497e-0298-4539-b447-2217d717b828",
   "metadata": {},
   "outputs": [],
   "source": [
    "from great_expectations.analytics.config import ENV_CONFIG\n",
    "ENV_CONFIG.gx_analytics_enabled = False"
   ]
  },
  {
   "cell_type": "markdown",
   "id": "2f5e46d6-5d3b-4c85-ada5-dd5cb3553e3f",
   "metadata": {},
   "source": [
    "Create Spark session and Spark DataFrame using Hive table hosted on S3"
   ]
  },
  {
   "cell_type": "code",
   "execution_count": 3,
   "id": "32340b5b-665a-4c8d-a4d1-4bd98af94410",
   "metadata": {},
   "outputs": [
    {
     "name": "stderr",
     "output_type": "stream",
     "text": [
      "Setting spark.hadoop.yarn.resourcemanager.principal to christoffer.soderberg\n",
      "Hive Session ID = f7a79c1b-1a60-4cf6-bf06-73e0f71d55d6\n",
      "[Stage 1:>                                                          (0 + 1) / 1]\r"
     ]
    },
    {
     "name": "stdout",
     "output_type": "stream",
     "text": [
      "+---------------+-----------------+--------+----------------+--------------------+--------------------+\n",
      "|incident_number|date_time_of_call|cal_year|type_of_incident|hourly_notional_cost|   final_description|\n",
      "+---------------+-----------------+--------+----------------+--------------------+--------------------+\n",
      "|       21319091| 06/02/2009 14:42|    2009| Special Service|                 255|ASSIST RSPCA WITH...|\n",
      "|       21401091| 06/02/2009 17:14|    2009| Special Service|                 255|CAT TRAPPED BETWE...|\n",
      "|       21458091| 06/02/2009 19:29|    2009| Special Service|                 255|CAT TRAPPED BETWE...|\n",
      "|       50107091| 26/03/2009 16:04|    2009| Special Service|                 255|DISTRESSED CAT ST...|\n",
      "|       73250091| 02/05/2009 16:00|    2009| Special Service|                 260|CAT TRAPPED IN BA...|\n",
      "+---------------+-----------------+--------+----------------+--------------------+--------------------+\n",
      "only showing top 5 rows\n",
      "\n"
     ]
    },
    {
     "name": "stderr",
     "output_type": "stream",
     "text": [
      "                                                                                \r"
     ]
    }
   ],
   "source": [
    "spark = SparkSession.builder.appName(\"gx_source\").getOrCreate()\n",
    "\n",
    "raw_df = spark.read.table(\"dapcats.animal_rescue_hive\").select([\n",
    "    \"incident_number\", \"date_time_of_call\", \"cal_year\", \n",
    "    \"type_of_incident\", \"hourly_notional_cost\", \"final_description\"\n",
    "])\n",
    "\n",
    "raw_df.show(5)"
   ]
  },
  {
   "cell_type": "markdown",
   "id": "92517bd6-6dcf-4251-b515-ce664e961248",
   "metadata": {},
   "source": [
    "Create a GX context"
   ]
  },
  {
   "cell_type": "code",
   "execution_count": 4,
   "id": "03294bf3-b34b-4ffe-b49a-a89534ff9f9b",
   "metadata": {},
   "outputs": [],
   "source": [
    "context = gx.get_context()"
   ]
  },
  {
   "cell_type": "markdown",
   "id": "3aa1c5e6-fd7a-4073-82ad-5f7d1697476c",
   "metadata": {},
   "source": [
    "Connect to data, create a data asset and create a Batch (a description of how data should be retrieved - in our case by reading a DataFrame object)"
   ]
  },
  {
   "cell_type": "code",
   "execution_count": 5,
   "id": "a6ae085a-5181-469f-9989-9845eb6a1c68",
   "metadata": {},
   "outputs": [],
   "source": [
    "data_source = context.data_sources.add_spark(\"spark\")\n",
    "data_asset = data_source.add_dataframe_asset(name=\"spark dataframe asset\")\n",
    "\n",
    "batch_parameters = {\"dataframe\": raw_df}\n",
    "batch_definition = data_asset.add_batch_definition_whole_dataframe(\"batch definition\")\n",
    "batch = batch_definition.get_batch(batch_parameters=batch_parameters)"
   ]
  },
  {
   "cell_type": "markdown",
   "id": "228baef2-a00e-4009-b6db-f659ac32f9d9",
   "metadata": {},
   "source": [
    "Create an Expectation Suite (an object that contains one or more Expectations about the data)"
   ]
  },
  {
   "cell_type": "code",
   "execution_count": 6,
   "id": "afe027dd-c0e0-4d20-ae95-9b0e3ae7b5af",
   "metadata": {},
   "outputs": [
    {
     "data": {
      "text/plain": [
       "ExpectColumnValuesToBeBetween(id='919da8e2-2d9c-4f31-b9a4-daf9ac918793', meta=None, notes=None, result_format=<ResultFormat.BASIC: 'BASIC'>, description=None, catch_exceptions=True, rendered_content=None, windows=None, batch_id=None, column='hourly_notional_cost', mostly=1, row_condition=None, condition_parser=None, min_value=200.0, max_value=300.0, strict_min=False, strict_max=False)"
      ]
     },
     "execution_count": 6,
     "metadata": {},
     "output_type": "execute_result"
    }
   ],
   "source": [
    "suite = context.suites.add(\n",
    "    gx.core.expectation_suite.ExpectationSuite(name=\"expectations\")\n",
    ")\n",
    "\n",
    "# Expect incident_number to be unique\n",
    "suite.add_expectation(\n",
    "    gx.expectations.ExpectColumnValuesToBeUnique(\n",
    "        column=\"incident_number\"\n",
    "    )\n",
    ")\n",
    "\n",
    "# Expect no data from after year 2024\n",
    "suite.add_expectation(\n",
    "    gx.expectations.ExpectColumnValuesToBeBetween(\n",
    "        column=\"cal_year\", max_value=int(2024)\n",
    "    )\n",
    ")\n",
    "\n",
    "# Expect hourly costs to lie between £200 per hour and £300 per hour\n",
    "suite.add_expectation(\n",
    "    gx.expectations.ExpectColumnValuesToBeBetween(\n",
    "        column=\"hourly_notional_cost\", min_value=int(200), max_value=int(300))\n",
    ")"
   ]
  },
  {
   "cell_type": "markdown",
   "id": "4bc2ccc7-a24e-4695-81ec-a774a9bce034",
   "metadata": {},
   "source": [
    "Create a Validation Definition that connects the Batch of data with the Expectation Suite"
   ]
  },
  {
   "cell_type": "code",
   "execution_count": 7,
   "id": "4140e40c-bafb-4501-93d2-c770676d5e23",
   "metadata": {},
   "outputs": [],
   "source": [
    "validation_definition = context.validation_definitions.add(\n",
    "    gx.core.validation_definition.ValidationDefinition(\n",
    "        name=\"validation definition\",\n",
    "        data=batch_definition,\n",
    "        suite=suite,\n",
    "    )\n",
    ")"
   ]
  },
  {
   "cell_type": "markdown",
   "id": "f43044fa-bb02-49dd-b5b3-76c9d86ca33a",
   "metadata": {},
   "source": [
    "Run the Validation Definition and display the results"
   ]
  },
  {
   "cell_type": "code",
   "execution_count": 8,
   "id": "d4fdc199-ae66-462a-950e-32de8c6fe2d7",
   "metadata": {},
   "outputs": [
    {
     "name": "stderr",
     "output_type": "stream",
     "text": [
      "Calculating Metrics: 100%|██████████| 30/30 [00:17<00:00,  1.69it/s]            "
     ]
    },
    {
     "name": "stdout",
     "output_type": "stream",
     "text": [
      "{\n",
      "  \"success\": false,\n",
      "  \"results\": [\n",
      "    {\n",
      "      \"success\": true,\n",
      "      \"expectation_config\": {\n",
      "        \"type\": \"expect_column_values_to_be_unique\",\n",
      "        \"kwargs\": {\n",
      "          \"batch_id\": \"spark-spark dataframe asset\",\n",
      "          \"column\": \"incident_number\"\n",
      "        },\n",
      "        \"meta\": {},\n",
      "        \"id\": \"b7509dd1-4c82-4edd-a403-087a83686e3a\"\n",
      "      },\n",
      "      \"result\": {\n",
      "        \"element_count\": 5898,\n",
      "        \"unexpected_count\": 0,\n",
      "        \"unexpected_percent\": 0.0,\n",
      "        \"partial_unexpected_list\": [],\n",
      "        \"missing_count\": 0,\n",
      "        \"missing_percent\": 0.0,\n",
      "        \"unexpected_percent_total\": 0.0,\n",
      "        \"unexpected_percent_nonmissing\": 0.0,\n",
      "        \"partial_unexpected_counts\": []\n",
      "      },\n",
      "      \"meta\": {},\n",
      "      \"exception_info\": {\n",
      "        \"raised_exception\": false,\n",
      "        \"exception_traceback\": null,\n",
      "        \"exception_message\": null\n",
      "      }\n",
      "    },\n",
      "    {\n",
      "      \"success\": true,\n",
      "      \"expectation_config\": {\n",
      "        \"type\": \"expect_column_values_to_be_between\",\n",
      "        \"kwargs\": {\n",
      "          \"batch_id\": \"spark-spark dataframe asset\",\n",
      "          \"column\": \"cal_year\",\n",
      "          \"max_value\": 2024.0\n",
      "        },\n",
      "        \"meta\": {},\n",
      "        \"id\": \"f7848502-93d1-408b-917c-6ec321b805cc\"\n",
      "      },\n",
      "      \"result\": {\n",
      "        \"element_count\": 5898,\n",
      "        \"unexpected_count\": 0,\n",
      "        \"unexpected_percent\": 0.0,\n",
      "        \"partial_unexpected_list\": [],\n",
      "        \"missing_count\": 0,\n",
      "        \"missing_percent\": 0.0,\n",
      "        \"unexpected_percent_total\": 0.0,\n",
      "        \"unexpected_percent_nonmissing\": 0.0,\n",
      "        \"partial_unexpected_counts\": []\n",
      "      },\n",
      "      \"meta\": {},\n",
      "      \"exception_info\": {\n",
      "        \"raised_exception\": false,\n",
      "        \"exception_traceback\": null,\n",
      "        \"exception_message\": null\n",
      "      }\n",
      "    },\n",
      "    {\n",
      "      \"success\": false,\n",
      "      \"expectation_config\": {\n",
      "        \"type\": \"expect_column_values_to_be_between\",\n",
      "        \"kwargs\": {\n",
      "          \"batch_id\": \"spark-spark dataframe asset\",\n",
      "          \"column\": \"hourly_notional_cost\",\n",
      "          \"min_value\": 200.0,\n",
      "          \"max_value\": 300.0\n",
      "        },\n",
      "        \"meta\": {},\n",
      "        \"id\": \"919da8e2-2d9c-4f31-b9a4-daf9ac918793\"\n",
      "      },\n",
      "      \"result\": {\n",
      "        \"element_count\": 5898,\n",
      "        \"unexpected_count\": 1701,\n",
      "        \"unexpected_percent\": 28.84028484231943,\n",
      "        \"partial_unexpected_list\": [\n",
      "          326,\n",
      "          326,\n",
      "          326,\n",
      "          326,\n",
      "          326,\n",
      "          326,\n",
      "          326,\n",
      "          326,\n",
      "          326,\n",
      "          326,\n",
      "          326,\n",
      "          326,\n",
      "          326,\n",
      "          328,\n",
      "          328,\n",
      "          328,\n",
      "          328,\n",
      "          328,\n",
      "          328,\n",
      "          328\n",
      "        ],\n",
      "        \"missing_count\": 0,\n",
      "        \"missing_percent\": 0.0,\n",
      "        \"unexpected_percent_total\": 28.84028484231943,\n",
      "        \"unexpected_percent_nonmissing\": 28.84028484231943,\n",
      "        \"partial_unexpected_counts\": [\n",
      "          {\n",
      "            \"value\": 326,\n",
      "            \"count\": 13\n",
      "          },\n",
      "          {\n",
      "            \"value\": 328,\n",
      "            \"count\": 7\n",
      "          }\n",
      "        ]\n",
      "      },\n",
      "      \"meta\": {},\n",
      "      \"exception_info\": {\n",
      "        \"raised_exception\": false,\n",
      "        \"exception_traceback\": null,\n",
      "        \"exception_message\": null\n",
      "      }\n",
      "    }\n",
      "  ],\n",
      "  \"suite_name\": \"expectations\",\n",
      "  \"suite_parameters\": {},\n",
      "  \"statistics\": {\n",
      "    \"evaluated_expectations\": 3,\n",
      "    \"successful_expectations\": 2,\n",
      "    \"unsuccessful_expectations\": 1,\n",
      "    \"success_percent\": 66.66666666666666\n",
      "  },\n",
      "  \"meta\": {\n",
      "    \"great_expectations_version\": \"1.5.1\",\n",
      "    \"batch_spec\": {\n",
      "      \"batch_data\": \"SparkDataFrame\"\n",
      "    },\n",
      "    \"batch_markers\": {\n",
      "      \"ge_load_time\": \"20250709T143542.659219Z\"\n",
      "    },\n",
      "    \"active_batch_definition\": {\n",
      "      \"datasource_name\": \"spark\",\n",
      "      \"data_connector_name\": \"fluent\",\n",
      "      \"data_asset_name\": \"spark dataframe asset\",\n",
      "      \"batch_identifiers\": {\n",
      "        \"dataframe\": \"<DATAFRAME>\"\n",
      "      }\n",
      "    },\n",
      "    \"validation_id\": \"e55c189c-a72a-4eef-b690-33ee11c5d3c0\",\n",
      "    \"checkpoint_id\": null,\n",
      "    \"run_id\": {\n",
      "      \"run_name\": null,\n",
      "      \"run_time\": \"2025-07-09T14:36:00.477633+00:00\"\n",
      "    },\n",
      "    \"validation_time\": \"2025-07-09T14:36:00.477633+00:00\",\n",
      "    \"batch_parameters\": {\n",
      "      \"dataframe\": \"<DATAFRAME>\"\n",
      "    }\n",
      "  },\n",
      "  \"id\": null\n",
      "}\n"
     ]
    },
    {
     "name": "stderr",
     "output_type": "stream",
     "text": [
      "\n"
     ]
    }
   ],
   "source": [
    "validation_results = validation_definition.run(batch_parameters=batch_parameters)\n",
    "\n",
    "print(validation_results)"
   ]
  }
 ],
 "metadata": {
  "kernelspec": {
   "display_name": "Python 3 (ipykernel)",
   "language": "python",
   "name": "python3"
  },
  "language_info": {
   "codemirror_mode": {
    "name": "ipython",
    "version": 3
   },
   "file_extension": ".py",
   "mimetype": "text/x-python",
   "name": "python",
   "nbconvert_exporter": "python",
   "pygments_lexer": "ipython3",
   "version": "3.10.16"
  }
 },
 "nbformat": 4,
 "nbformat_minor": 5
}
